{
 "cells": [
  {
   "cell_type": "code",
   "execution_count": 2,
   "metadata": {},
   "outputs": [],
   "source": [
    "from IPython.display import clear_output #jupyter notebook only! otherwise print('\\n'*100)\n",
    "import random\n",
    "import sys\n",
    " \n",
    "#shows actual board\n",
    "def printboard(board):\n",
    "    print(f\"|{board[0]}|{board[1]}|{board[2]}| \\n — — — \\n|{board[3]}|{board[4]}|{board[5]}|\\n — — — \\n|{board[6]}|{board[7]}|{board[8]}|\")\n"
   ]
  },
  {
   "cell_type": "code",
   "execution_count": 3,
   "metadata": {},
   "outputs": [],
   "source": [
    "def game_start(board):\n",
    "    print(\"Hi, I am TicTacToe! \\n\")\n",
    "    name1 = input(\"Player 1, please input your name \\n\")\n",
    "    name2 = input(\"Player 2, please input your name \\n\")\n",
    "    names = [name1, name2]\n",
    "    global first_player\n",
    "    global second_player\n",
    "    random.shuffle(names)\n",
    "    first_player = names[0]\n",
    "    second_player = names[1]\n",
    "    print(f\"{name1} and {name2}, welcome to the game!\")\n",
    "    printboard(board)\n",
    "    print(f\"{first_player}: X \\n{second_player}: 0 \\n\") "
   ]
  },
  {
   "cell_type": "code",
   "execution_count": 4,
   "metadata": {},
   "outputs": [],
   "source": [
    "#input X or 0\n",
    "def player_input(board):\n",
    "    global marker\n",
    "    marker = input(\"Input X or 0\\n0\")\n",
    "    while marker != \"X\" and marker != \"0\":\n",
    "        marker = input(\"Sorry, you must choose between Х or 0 \\n\")\n",
    "    global position\n",
    "    position = int(input(\"Input number of the cell from 1 to 9 (numbers only) \\n\"))\n",
    "    while position not in board:\n",
    "        position = int(input(\"This cell is not on the board or it's already taken. Please choose another one (numbers only) \\n\"))\n",
    "    return marker, position\n"
   ]
  },
  {
   "cell_type": "code",
   "execution_count": 5,
   "metadata": {},
   "outputs": [],
   "source": [
    "#assigns marker to the cell in the board\n",
    "def place_marker(board, marker, position): \n",
    "    if board[position-1] == position: \n",
    "        board[position-1] = marker \n",
    "    else: print(\"No free space here\")"
   ]
  },
  {
   "cell_type": "code",
   "execution_count": 6,
   "metadata": {},
   "outputs": [],
   "source": [
    "#checks free space/tie\n",
    "def check_full(board):\n",
    "    return len(set(board)) == 2\n",
    "   "
   ]
  },
  {
   "cell_type": "code",
   "execution_count": 7,
   "metadata": {},
   "outputs": [],
   "source": [
    "def game_on():\n",
    "    play_game = input('Wanna play one more time? Input Yes or No \\n')\n",
    "    answer = play_game.lower()[0] == 'y'\n",
    "    return answer\n",
    "               "
   ]
  },
  {
   "cell_type": "code",
   "execution_count": 8,
   "metadata": {},
   "outputs": [],
   "source": [
    "#checks who won        \n",
    "def check_win(board):\n",
    "    global a\n",
    "    global b\n",
    "    global c\n",
    "    global d\n",
    "    global e\n",
    "    global f\n",
    "    global h\n",
    "    global g\n",
    "    a = (board[0] ==  board[1] == board[2]) \n",
    "    b = (board[3] ==  board[4] == board[5]) \n",
    "    c = (board[6] ==  board[7] == board[8])\n",
    "    d = (board[0] ==  board[3] == board[6])\n",
    "    e = (board[1] ==  board[4] == board[7])\n",
    "    f = (board[2] ==  board[4] == board[6])\n",
    "    h = (board[0] ==  board[4] == board[8])\n",
    "    g = (board[2] ==  board[5] == board[8])\n",
    "\n",
    "    return a or b  or  c or d or e or f or h or g\n",
    "       \n"
   ]
  },
  {
   "cell_type": "code",
   "execution_count": 9,
   "metadata": {},
   "outputs": [],
   "source": [
    "def check_who_won(board):\n",
    "    if a or b or c or d or e or f or h or g == \"X\":\n",
    "        print(f\"Congratulations, {first_player} won!\")\n",
    "    else: \n",
    "        print(f\"{second_player}won! Good job!\")"
   ]
  },
  {
   "cell_type": "code",
   "execution_count": 10,
   "metadata": {},
   "outputs": [],
   "source": [
    "def game(board):\n",
    "    if check_full(board):\n",
    "        print(\"It's a tie \\n\")\n",
    "    else:\n",
    "        if check_win(board) is False:\n",
    "            player_input(board)\n",
    "            place_marker(board, marker, position)\n",
    "            printboard(board)\n",
    "            game(board)\n",
    "                    \n",
    "        else:\n",
    "            print(\"Game over\")\n",
    "            check_who_won(board)\n",
    "            \n",
    "         "
   ]
  },
  {
   "cell_type": "code",
   "execution_count": 11,
   "metadata": {},
   "outputs": [],
   "source": [
    "def tictactoegame():\n",
    "    clear_output()\n",
    "    board = [1, 2, 3, 4, 5, 6, 7, 8, 9]\n",
    "    game_start(board)\n",
    "    game(board)\n",
    "    if game_on() is True:\n",
    "        print(\"New game\")\n",
    "        tictactoegame()\n",
    "    else:\n",
    "        print(\"See you next time!\")\n"
   ]
  },
  {
   "cell_type": "code",
   "execution_count": 12,
   "metadata": {},
   "outputs": [
    {
     "name": "stdout",
     "output_type": "stream",
     "text": [
      "Hi, I am TicTacToe! \n",
      "\n",
      "Player 1, please input your name \n",
      "as\n",
      "Player 2, please input your name \n",
      "ww\n",
      "as and ww, welcome to the game!\n",
      "|1|2|3| \n",
      " — — — \n",
      "|4|5|6|\n",
      " — — — \n",
      "|7|8|9|\n",
      "as: X \n",
      "ww: 0 \n",
      "\n",
      "Input X or 0X\n",
      "Input number of the cell from 1 to 9 (numbers only) \n",
      "1\n",
      "|X|2|3| \n",
      " — — — \n",
      "|4|5|6|\n",
      " — — — \n",
      "|7|8|9|\n",
      "Input X or 0X\n",
      "Input number of the cell from 1 to 9 (numbers only) \n",
      "2\n",
      "|X|X|3| \n",
      " — — — \n",
      "|4|5|6|\n",
      " — — — \n",
      "|7|8|9|\n",
      "Input X or 0X\n",
      "Input number of the cell from 1 to 9 (numbers only) \n",
      "4\n",
      "|X|X|3| \n",
      " — — — \n",
      "|X|5|6|\n",
      " — — — \n",
      "|7|8|9|\n",
      "Input X or 0X\n",
      "Input number of the cell from 1 to 9 (numbers only) \n",
      "5\n",
      "|X|X|3| \n",
      " — — — \n",
      "|X|X|6|\n",
      " — — — \n",
      "|7|8|9|\n",
      "Input X or 00\n",
      "Input number of the cell from 1 to 9 (numbers only) \n",
      "3\n",
      "|X|X|0| \n",
      " — — — \n",
      "|X|X|6|\n",
      " — — — \n",
      "|7|8|9|\n",
      "Input X or 00\n",
      "Input number of the cell from 1 to 9 (numbers only) \n",
      "6\n",
      "|X|X|0| \n",
      " — — — \n",
      "|X|X|0|\n",
      " — — — \n",
      "|7|8|9|\n",
      "Input X or 00\n",
      "Input number of the cell from 1 to 9 (numbers only) \n",
      "8\n",
      "|X|X|0| \n",
      " — — — \n",
      "|X|X|0|\n",
      " — — — \n",
      "|7|0|9|\n",
      "Input X or 00\n",
      "Input number of the cell from 1 to 9 (numbers only) \n",
      "7\n",
      "|X|X|0| \n",
      " — — — \n",
      "|X|X|0|\n",
      " — — — \n",
      "|0|0|9|\n",
      "Input X or 00\n",
      "Input number of the cell from 1 to 9 (numbers only) \n",
      "9\n",
      "|X|X|0| \n",
      " — — — \n",
      "|X|X|0|\n",
      " — — — \n",
      "|0|0|0|\n",
      "It's a tie \n",
      "\n",
      "Wanna play one more time? Input Yes or No \n",
      "no\n",
      "See you next time!\n"
     ]
    }
   ],
   "source": [
    "tictactoegame()"
   ]
  },
  {
   "cell_type": "code",
   "execution_count": null,
   "metadata": {},
   "outputs": [],
   "source": []
  },
  {
   "cell_type": "code",
   "execution_count": null,
   "metadata": {},
   "outputs": [],
   "source": []
  }
 ],
 "metadata": {
  "kernelspec": {
   "display_name": "Python 3",
   "language": "python",
   "name": "python3"
  },
  "language_info": {
   "codemirror_mode": {
    "name": "ipython",
    "version": 3
   },
   "file_extension": ".py",
   "mimetype": "text/x-python",
   "name": "python",
   "nbconvert_exporter": "python",
   "pygments_lexer": "ipython3",
   "version": "3.7.4"
  }
 },
 "nbformat": 4,
 "nbformat_minor": 2
}
